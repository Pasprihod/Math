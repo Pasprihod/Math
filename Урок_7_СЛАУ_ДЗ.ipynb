{
  "nbformat": 4,
  "nbformat_minor": 0,
  "metadata": {
    "colab": {
      "provenance": [],
      "collapsed_sections": [],
      "authorship_tag": "ABX9TyNGcDLvkKwX+dC69a6yxui9",
      "include_colab_link": true
    },
    "kernelspec": {
      "name": "python3",
      "display_name": "Python 3"
    },
    "language_info": {
      "name": "python"
    }
  },
  "cells": [
    {
      "cell_type": "markdown",
      "metadata": {
        "id": "view-in-github",
        "colab_type": "text"
      },
      "source": [
        "<a href=\"https://colab.research.google.com/github/Pasprihod/Math/blob/main/%D0%A3%D1%80%D0%BE%D0%BA_7_%D0%A1%D0%9B%D0%90%D0%A3_%D0%94%D0%97.ipynb\" target=\"_parent\"><img src=\"https://colab.research.google.com/assets/colab-badge.svg\" alt=\"Open In Colab\"/></a>"
      ]
    },
    {
      "cell_type": "markdown",
      "source": [
        "Задание 1."
      ],
      "metadata": {
        "id": "tBkHie0rEBoI"
      }
    },
    {
      "cell_type": "code",
      "execution_count": 1,
      "metadata": {
        "id": "1y7I8ol5D5JT"
      },
      "outputs": [],
      "source": [
        "import numpy as np"
      ]
    },
    {
      "cell_type": "code",
      "source": [
        "A=np.array([[1,2,3], [4,0,6],[7,8,9]])\n",
        "b=np.array([12,2,1])\n",
        "if np.linalg.det(A) != 0:\n",
        "  print(np.linalg.solve(A,b))\n",
        "else:\n",
        "  print('Определитель СЛАУ равен 0, точных решений нет')"
      ],
      "metadata": {
        "colab": {
          "base_uri": "https://localhost:8080/"
        },
        "id": "BQz0LXP9EiMk",
        "outputId": "4c46a91c-0934-4b76-8600-11a9e4eeca23"
      },
      "execution_count": 45,
      "outputs": [
        {
          "output_type": "stream",
          "name": "stdout",
          "text": [
            "[-9.2         0.9         6.46666667]\n"
          ]
        }
      ]
    },
    {
      "cell_type": "markdown",
      "source": [
        "Задание 2."
      ],
      "metadata": {
        "id": "wJD1FI_nEbe7"
      }
    },
    {
      "cell_type": "code",
      "source": [
        "A=np.array([[1,2,-1], [3,-4,0],[8,-5,2],[2,0,-5],[11,4,-7]])\n",
        "b=np.array([1,7,12,7,15])\n",
        "solve=np.linalg.lstsq(A,b)\n",
        "print('Псевдорешение СЛАУ:', solve[0])\n",
        "# проверка\n",
        "print(b, ' -исходный вектор')\n",
        "print(np.dot(A,solve[0].T), '- вектор, получаемый в результате решения', )"
      ],
      "metadata": {
        "colab": {
          "base_uri": "https://localhost:8080/"
        },
        "id": "tmZP6WPPFV29",
        "outputId": "b97861ef-db4d-45fe-da23-59543a94b133"
      },
      "execution_count": 19,
      "outputs": [
        {
          "output_type": "stream",
          "name": "stdout",
          "text": [
            "Псевдорешение СЛАУ: [ 1.13919353 -0.90498444 -0.9009803 ]\n",
            "[ 1  7 12  7 15]  -исходный вектор\n",
            "[ 0.23020495  7.03751834 11.83650981  6.78328855 15.21805313] - вектор, получаемый в результате решения\n"
          ]
        },
        {
          "output_type": "stream",
          "name": "stderr",
          "text": [
            "/usr/local/lib/python3.7/dist-packages/ipykernel_launcher.py:3: FutureWarning: `rcond` parameter will change to the default of machine precision times ``max(M, N)`` where M and N are the input matrix dimensions.\n",
            "To use the future default and silence this warning we advise to pass `rcond=None`, to keep using the old, explicitly pass `rcond=-1`.\n",
            "  This is separate from the ipykernel package so we can avoid doing imports until\n"
          ]
        }
      ]
    },
    {
      "cell_type": "markdown",
      "source": [
        "Задание 3."
      ],
      "metadata": {
        "id": "uv5i3AjaEANx"
      }
    },
    {
      "cell_type": "code",
      "source": [
        "A=np.array([[1,2,3], [4,5,6],[7,8,9]])\n",
        "b=np.array([[2,5,1]])\n",
        "C=np.concatenate((A,b.T), axis=1)\n",
        "print('Определитель:', np.linalg.det(A))\n",
        "print()\n",
        "print('Ранги исходной матрицы  А и расширенной матрицы:', np.linalg.matrix_rank(A),np.linalg.matrix_rank(C))\n",
        "if np.linalg.matrix_rank(A) < np.linalg.matrix_rank(C):\n",
        "  print('Система несовместна, не имеет решений')\n",
        "  b_new =np.array([list(map(int, input(f'Измените вектор b ({b})').split()))])\n",
        "  C_new=np.concatenate((A,b_new.T), axis=1)\n",
        "  print()\n",
        "  print('Ранги исходной матрицы  А и новой расширенной матрицы:', np.linalg.matrix_rank(A),np.linalg.matrix_rank(C_new))\n",
        "  print()\n",
        "  print('Решение с помощью lstsq:')\n",
        "  print(np.linalg.lstsq(A,b_new.T))"
      ],
      "metadata": {
        "colab": {
          "base_uri": "https://localhost:8080/"
        },
        "id": "cDg8RDcraOy0",
        "outputId": "20565c8e-ff92-47da-fa3a-1f10af312e1a"
      },
      "execution_count": 64,
      "outputs": [
        {
          "output_type": "stream",
          "name": "stdout",
          "text": [
            "Определитель: 0.0\n",
            "\n",
            "Ранги исходной матрицы  А и расширенной матрицы: 2 3\n",
            "Система несовместна, не имеет решений\n",
            "Измените вектор b ([[2 5 1]])1 1 1\n",
            "\n",
            "Ранги исходной матрицы  А и новой расширенной матрицы: 2 2\n",
            "\n",
            "Решение с помощью lstsq:\n",
            "(array([[-5.00000000e-01],\n",
            "       [ 5.55111512e-17],\n",
            "       [ 5.00000000e-01]]), array([], dtype=float64), 2, array([1.68481034e+01, 1.06836951e+00, 4.41842475e-16]))\n"
          ]
        },
        {
          "output_type": "stream",
          "name": "stderr",
          "text": [
            "/usr/local/lib/python3.7/dist-packages/ipykernel_launcher.py:15: FutureWarning: `rcond` parameter will change to the default of machine precision times ``max(M, N)`` where M and N are the input matrix dimensions.\n",
            "To use the future default and silence this warning we advise to pass `rcond=None`, to keep using the old, explicitly pass `rcond=-1`.\n",
            "  from ipykernel import kernelapp as app\n"
          ]
        }
      ]
    },
    {
      "cell_type": "markdown",
      "source": [
        "Задание 4."
      ],
      "metadata": {
        "id": "cnVwrIoXtLsR"
      }
    },
    {
      "cell_type": "code",
      "source": [
        "import scipy.linalg\n",
        "A=np.array([[1,2,3], [2,16,21],[4,28,73]])\n",
        "print('det(A) = ', np.linalg.det(A))\n",
        "P,L,U = scipy.linalg.lu(A)\n",
        "print('L = ', L)\n",
        "print('U = ', U)\n",
        "b=np.array([2,5,1])\n",
        "\n",
        "print('Решение через L,U: ', np.linalg.solve(U, np.linalg.solve(np.dot(P,L), b)))\n",
        "print('Решение через А: ', np.linalg.solve(A,b))\n",
        "\n"
      ],
      "metadata": {
        "colab": {
          "base_uri": "https://localhost:8080/"
        },
        "id": "kTNf2eJWtOFS",
        "outputId": "b853c271-0524-49ec-edda-8df300290287"
      },
      "execution_count": 54,
      "outputs": [
        {
          "output_type": "stream",
          "name": "stdout",
          "text": [
            "det(A) =  432.00000000000017\n",
            "L =  [[ 1.    0.    0.  ]\n",
            " [ 0.25  1.    0.  ]\n",
            " [ 0.5  -0.4   1.  ]]\n",
            "U =  [[  4.    28.    73.  ]\n",
            " [  0.    -5.   -15.25]\n",
            " [  0.     0.   -21.6 ]]\n",
            "Решение через L,U:  [ 1.9537037   0.38425926 -0.24074074]\n",
            "Решение через А:  [ 1.9537037   0.38425926 -0.24074074]\n"
          ]
        }
      ]
    },
    {
      "cell_type": "markdown",
      "source": [
        "Задание 5."
      ],
      "metadata": {
        "id": "oHqvHHd9v47g"
      }
    },
    {
      "cell_type": "code",
      "source": [
        "import matplotlib.pyplot as plt\n",
        "\n",
        "A=np.array([[1,2,-1], [8,-5,2]])\n",
        "b=np.array([1,12])\n",
        "#y=10x-14, z=21x-29 - выражено из первых двух равнений системы\n",
        "def Q(x,y,z):\n",
        "  return (x**2+y**2+z**2)\n",
        "x=np.linspace(1.3,1.5,100)\n",
        "plt.plot(x,Q(x,10*x-14,21*x-29))\n",
        "plt.xlabel('x')\n",
        "plt.ylabel('Q')\n",
        "plt.grid(True)\n",
        "# по графику, примерно, 1.385, тогда вычисляем псевдорешение\n",
        "\n",
        "x0=1.385 # можно через input\n",
        "print('Псевдорешение с помощью графика:', x0, round(10*x0-14,6), round(21*x0-29,6))\n",
        "\n",
        "solve=np.linalg.lstsq(A,b)\n",
        "print('Псевдорешение с помощью lstsq:', solve[0])\n",
        "\n",
        "\n"
      ],
      "metadata": {
        "colab": {
          "base_uri": "https://localhost:8080/",
          "height": 373
        },
        "id": "GhMTt5tVv68x",
        "outputId": "440ecc67-e215-4052-ac19-d893ac012cc1"
      },
      "execution_count": 66,
      "outputs": [
        {
          "output_type": "stream",
          "name": "stdout",
          "text": [
            "Псевдорешение с помощью графика: 1.385 -0.15 0.085\n",
            "Псевдорешение с помощью lstsq: [ 1.38191882 -0.18081181  0.0202952 ]\n"
          ]
        },
        {
          "output_type": "stream",
          "name": "stderr",
          "text": [
            "/usr/local/lib/python3.7/dist-packages/ipykernel_launcher.py:18: FutureWarning: `rcond` parameter will change to the default of machine precision times ``max(M, N)`` where M and N are the input matrix dimensions.\n",
            "To use the future default and silence this warning we advise to pass `rcond=None`, to keep using the old, explicitly pass `rcond=-1`.\n"
          ]
        },
        {
          "output_type": "display_data",
          "data": {
            "text/plain": [
              "<Figure size 432x288 with 1 Axes>"
            ],
            "image/png": "[encoded data removed]"
          },
          "metadata": {
            "needs_background": "light"
          }
        }
      ]
    },
    {
      "cell_type": "markdown",
      "source": [
        "Задание 6."
      ],
      "metadata": {
        "id": "DAU8H6IaAbv1"
      }
    },
    {
      "cell_type": "code",
      "source": [
        "import numpy as np\n",
        "import matplotlib.pyplot as plt\n",
        "\n",
        "A=np.array([[1,2,3], [4,5,6],[7,8,9]])\n",
        "b=np.array([2,5,1])\n",
        "\n",
        "Q,R = np.linalg.qr(A)\n",
        "# R1*x1 = Q.T*b\n",
        "R1=R[:2,:2]\n",
        "b1=np.dot(Q.T, b)[:2]\n",
        "x1 = np.linalg.solve(R1,b1)\n",
        "x=np.append(x1, 0)\n",
        "print('Решение с помощью QR-разложения',x)\n",
        "print('Норма невязки СЛАУ' ,np.linalg.norm(np.dot(A,x)-b)) # норма невязки СЛАУ\n",
        "print('Норма псевдорешения', np.linalg.norm(x)) # норма псевдорешения\n",
        "print()\n",
        "\n",
        "y=np.linalg.lstsq(A,b)\n",
        "print('Нормальное решение',y[0])\n",
        "print('Норма невязки СЛАУ', np.linalg.norm(np.dot(A,y[0])-b)) # Норма невязки СЛАУ\n",
        "print('Норма псевдорешения', np.linalg.norm(y[0])) # норма псевдорешения"
      ],
      "metadata": {
        "colab": {
          "base_uri": "https://localhost:8080/"
        },
        "id": "0-KnWTMcAePG",
        "outputId": "194ed21a-1951-4bfa-9af0-7b643d39d61c"
      },
      "execution_count": 62,
      "outputs": [
        {
          "output_type": "stream",
          "name": "stdout",
          "text": [
            "Решение с помощью QR-разложения [-3.5         3.33333333  0.        ]\n",
            "Норма невязки СЛАУ 2.857738033247042\n",
            "Норма псевдорешения 4.833333333333321\n",
            "\n",
            "Нормальное решение [-1.80555556 -0.05555556  1.69444444]\n",
            "Норма невязки СЛАУ 2.857738033247041\n",
            "Норма псевдорешения 2.4767436805731893\n"
          ]
        },
        {
          "output_type": "stream",
          "name": "stderr",
          "text": [
            "/usr/local/lib/python3.7/dist-packages/ipykernel_launcher.py:18: FutureWarning: `rcond` parameter will change to the default of machine precision times ``max(M, N)`` where M and N are the input matrix dimensions.\n",
            "To use the future default and silence this warning we advise to pass `rcond=None`, to keep using the old, explicitly pass `rcond=-1`.\n"
          ]
        }
      ]
    },
    {
      "cell_type": "markdown",
      "source": [],
      "metadata": {
        "id": "0ZygG3IO6Aio"
      }
    }
  ]
}