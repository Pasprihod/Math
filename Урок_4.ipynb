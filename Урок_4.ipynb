{
  "nbformat": 4,
  "nbformat_minor": 0,
  "metadata": {
    "colab": {
      "provenance": [],
      "collapsed_sections": [],
      "authorship_tag": "ABX9TyPNzzKdhnVtmVYMmO5MtwtL",
      "include_colab_link": true
    },
    "kernelspec": {
      "name": "python3",
      "display_name": "Python 3"
    },
    "language_info": {
      "name": "python"
    }
  },
  "cells": [
    {
      "cell_type": "markdown",
      "metadata": {
        "id": "view-in-github",
        "colab_type": "text"
      },
      "source": [
        "<a href=\"https://colab.research.google.com/github/Pasprihod/Math/blob/main/%D0%A3%D1%80%D0%BE%D0%BA_4.ipynb\" target=\"_parent\"><img src=\"https://colab.research.google.com/assets/colab-badge.svg\" alt=\"Open In Colab\"/></a>"
      ]
    },
    {
      "cell_type": "markdown",
      "source": [
        "3. Задание (в программе или на листочке)\n",
        "На листе тетради «в линейку» (расстояние между линиями равно а) лежит игла (длиной b). Координаты нижней точки иглы (х,у), игла лежит под углом alfa. Пересекает ли игла линию или нет?"
      ],
      "metadata": {
        "id": "yf9kPBxxi8q1"
      }
    },
    {
      "cell_type": "code",
      "source": [
        "import matplotlib.pyplot as plt\n",
        "import numpy as np\n",
        "\n",
        "a = 10\n",
        "b = 10\n",
        "x0,y0 = (40, 45)\n",
        "alpha = np.pi/3 # от 0 до pi\n",
        "metric = (y0 % a + b*np.sin(alpha)) // a\n",
        "if metric >= 1:\n",
        "  print('Игла пересекает линию')\n",
        "else:\n",
        "  print('Игла  не пересекает линию')\n",
        "\n",
        "x = np.linspace(0,50,50)\n",
        "plt.xlabel('x')\n",
        "plt.ylabel('y')\n",
        "plt.grid()\n",
        "for i in range(y0//a+2): # линии в тетради\n",
        "  plt.plot([0,50], [i*a,i*a],'b')\n",
        "\n",
        "plt.scatter(x0,y0,40,'r') # нижняя точка иглы\n",
        "\n",
        "if alpha < np.pi/2: # рисуем иглу, в зависимости от угла\n",
        "  x=np.linspace(x0,x0+b*np.cos(alpha),1000)\n",
        "  y=y0+(x-x0)*np.sin(alpha)\n",
        "elif alpha == np.pi/2:\n",
        "  x=[x0,x0]\n",
        "  y=[y0,y0+b]  \n",
        "else: \n",
        "  x=np.linspace(x0+b*np.cos(alpha), x0, 1000)\n",
        "  y=y0+(x0-x)*np.sin(alpha)\n",
        "\n",
        "plt.plot(x,y, 'r')\n",
        "plt.axis('equal')"
      ],
      "metadata": {
        "colab": {
          "base_uri": "https://localhost:8080/",
          "height": 316
        },
        "id": "wkVbsPfujOE-",
        "outputId": "1aa94bcf-a03c-4c44-bc1a-33dcaa8f3e70"
      },
      "execution_count": 27,
      "outputs": [
        {
          "output_type": "stream",
          "name": "stdout",
          "text": [
            "Игла пересекает линию\n"
          ]
        },
        {
          "output_type": "execute_result",
          "data": {
            "text/plain": [
              "(-2.5, 52.5, -2.5, 52.5)"
            ]
          },
          "metadata": {},
          "execution_count": 27
        },
        {
          "output_type": "display_data",
          "data": {
            "text/plain": [
              "<Figure size 432x288 with 1 Axes>"
            ],
            "image/png": "[encoded data removed]"
          },
          "metadata": {
            "needs_background": "light"
          }
        }
      ]
    },
    {
      "cell_type": "markdown",
      "source": [
        "4. Задание** (задание делать по желанию)\n",
        "Решите аналитически и потом численно (в программе) уравнение, зависящее от параметра а: \n",
        "sin(а*x)=0\n",
        "при условии: 0.01<a<0.02, 100<х<500.\n",
        "Т.е. надо найти решение х как функцию параметра а - построить график x=x(а).\n",
        "Если численным методом не получается найти все ветви решения x(а), то отыщите хотя бы одну.\n"
      ],
      "metadata": {
        "id": "EB1HZMRSwG6w"
      }
    },
    {
      "cell_type": "code",
      "source": [
        "import matplotlib.pyplot as plt\n",
        "import numpy as np\n",
        "from scipy.optimize import fsolve\n",
        "\n",
        "def f(p):\n",
        "  return (np.sin(p))\n",
        "x=np.linspace(100,500,100)\n",
        "a=np.linspace(0.01,0.02,200)\n",
        "p_range=np.linspace(1,10,30) # p = x*a\n",
        "\n",
        "sol = np.unique([round(fsolve(f, p)[0],2) for p in p_range])\n",
        "\n",
        "# определяем решения, удовлетворяющие ОДЗ\n",
        "sol1=[]\n",
        "for i in range(len(sol)):\n",
        "  for ai in a:\n",
        "    xi = round(sol[i]/ai,2) \n",
        "    if 100 <= xi <= 500:\n",
        "      sol1.append(sol[i])\n",
        "      break\n",
        "sol=sol1\n",
        "\n",
        "# определяем координаты пересечения решений с границами ОДЗ\n",
        "coord = {}\n",
        "for i in range(len(sol)):\n",
        "  coord[i] = []\n",
        "  for ai in a:\n",
        "    xi = round(sol[i]/ai,2)\n",
        "    if (ai == 0.01 or ai == 0.02) and 100 <= xi <= 500:\n",
        "      coord[i].append([ai,xi])\n",
        "    if 99 <xi < 101 or 499< xi < 501:\n",
        "      coord[i].append([ai,round(xi)])  \n",
        "    \n",
        "plt.grid(True)\n",
        "plt.xlabel('x')\n",
        "plt.ylabel('y')\n",
        "\n",
        "# рисуем ОДЗ\n",
        "plt.plot([0.01, 0.01],[100, 500],'b')\n",
        "plt.plot([0.02, 0.02],[100, 500],'b')\n",
        "plt.plot([0.01, 0.02],[100, 100],'b')\n",
        "plt.plot([0.01, 0.02],[500, 500],'b')\n",
        "\n",
        "# рисуем графики решений\n",
        "for i in range(len(sol)):\n",
        "  plt.plot(a, sol[i]/a)\n",
        "  \n",
        "\n",
        "# рисуем точки пересечений решений и границ ОДЗ\n",
        "for i in coord.keys():\n",
        "  for j in coord[i]:\n",
        "    plt.scatter(j[0], j[1], 50, 'r')\n",
        "\n",
        "\n"
      ],
      "metadata": {
        "colab": {
          "base_uri": "https://localhost:8080/",
          "height": 279
        },
        "id": "uBkpir_NwOMm",
        "outputId": "8d536550-b88e-4926-e5ab-53c1437521c8"
      },
      "execution_count": 26,
      "outputs": [
        {
          "output_type": "display_data",
          "data": {
            "text/plain": [
              "<Figure size 432x288 with 1 Axes>"
            ],
            "image/png": "[encoded data removed]"
          },
          "metadata": {
            "needs_background": "light"
          }
        }
      ]
    }
  ]
}