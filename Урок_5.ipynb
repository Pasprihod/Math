{
  "nbformat": 4,
  "nbformat_minor": 0,
  "metadata": {
    "colab": {
      "provenance": [],
      "collapsed_sections": [],
      "authorship_tag": "ABX9TyOWr2k2UNku0y6QKayrnYyY",
      "include_colab_link": true
    },
    "kernelspec": {
      "name": "python3",
      "display_name": "Python 3"
    },
    "language_info": {
      "name": "python"
    }
  },
  "cells": [
    {
      "cell_type": "markdown",
      "metadata": {
        "id": "view-in-github",
        "colab_type": "text"
      },
      "source": [
        "<a href=\"https://colab.research.google.com/github/Pasprihod/Math/blob/main/%D0%A3%D1%80%D0%BE%D0%BA_5.ipynb\" target=\"_parent\"><img src=\"https://colab.research.google.com/assets/colab-badge.svg\" alt=\"Open In Colab\"/></a>"
      ]
    },
    {
      "cell_type": "markdown",
      "source": [
        "1. Напишите код, моделирующий выпадение поля в рулетке (с учетом поля зеро)."
      ],
      "metadata": {
        "id": "lB3V9gtpSp2A"
      }
    },
    {
      "cell_type": "code",
      "execution_count": 5,
      "metadata": {
        "colab": {
          "base_uri": "https://localhost:8080/"
        },
        "id": "lbaX5UlSShYC",
        "outputId": "9a877980-ecb1-4ad0-98f8-5ad6fae7becb"
      },
      "outputs": [
        {
          "output_type": "stream",
          "name": "stdout",
          "text": [
            "red\n",
            "red\n",
            "black\n",
            "red\n",
            "black\n",
            "black\n",
            "zero\n",
            "black\n",
            "red\n",
            "black\n",
            "red\n",
            "black\n",
            "black\n",
            "black\n",
            "black\n",
            "black\n",
            "red\n",
            "red\n",
            "red\n",
            "red\n",
            "black\n",
            "red\n",
            "red\n",
            "black\n",
            "red\n",
            "black\n",
            "red\n",
            "red\n",
            "black\n",
            "red\n",
            "red\n",
            "red\n",
            "red\n",
            "zero\n",
            "red\n",
            "red\n",
            "black\n"
          ]
        }
      ],
      "source": [
        "import numpy as np\n",
        "\n",
        "n=37\n",
        "for i in range(n):\n",
        "  x=np.random.randint(0,37)\n",
        "  if x == 0:\n",
        "    print('zero')\n",
        "  elif x in (3,32,19,21,25,34,27,36,30,23,5,16,1,14,9,18,7,12,3):\n",
        "    print('red')\n",
        "  else:\n",
        "    print('black')\n"
      ]
    },
    {
      "cell_type": "markdown",
      "source": [
        "2.1. Напишите код, проверяющий любую из теорем сложения или умножения вероятности на примере рулетки или подбрасывания монетки."
      ],
      "metadata": {
        "id": "7QOgyeZQSoRc"
      }
    },
    {
      "cell_type": "code",
      "source": [
        "import numpy as np\n",
        "\n",
        "\n",
        "n1=0\n",
        "n2=0\n",
        "n=10000\n",
        "for _ in range(n):\n",
        "  x = np.random.randint(0,37,2)\n",
        "  if x[0] == 0 and x[1] in (3,32,19,21,25,34,27,36,30,23,5,16,1,14,9,18,7,12,3): # и 0, и красное\n",
        "    n1 +=1\n",
        "  if x[0] == 0 or x[1] in (3,32,19,21,25,34,27,36,30,23,5,16,1,14,9,18,7,12,3): # либо 0, либо красное\n",
        "    n2 +=1\n",
        "\n",
        "print(f'Умножение: \\n Сначала 0, потом красное.  На практике: {n1/n} В теории: {round(1/37*18/37, 4)}' )    \n",
        "print(f'Сложение: \\n В двух попытках 0 и красное (порядок не важен).  На практике: {n2/n} В теории: {round(1/37+18/37, 4)}' )\n"
      ],
      "metadata": {
        "colab": {
          "base_uri": "https://localhost:8080/"
        },
        "id": "-YQxWtEuV9iH",
        "outputId": "bc8cfa99-c583-4ed0-c238-cff16eb5f7be"
      },
      "execution_count": 4,
      "outputs": [
        {
          "output_type": "stream",
          "name": "stdout",
          "text": [
            "Умножение: \n",
            " Сначала 0, потом красное.  На практике: 0.0129 В теории: 0.0131\n",
            "Сложение: \n",
            " В двух попытках 0 и красное (порядок не важен).  На практике: 0.4903 В теории: 0.5135\n"
          ]
        }
      ]
    },
    {
      "cell_type": "markdown",
      "source": [
        "2.2 Сгенерируйте десять выборок случайных чисел х0, …, х9.\n",
        "и постройте гистограмму распределения случайной суммы  +х0+ …+ х 9. "
      ],
      "metadata": {
        "id": "FgRV0uwdpuea"
      }
    },
    {
      "cell_type": "code",
      "source": [
        "import numpy as np\n",
        "import matplotlib.pyplot as plt\n",
        " \n",
        "n=1000 # количество чисел в выборке\n",
        "n1= 10000 # количество выборок\n",
        "x = [np.random.rand(n) for _ in range(n1)]\n",
        "x_sum = [sum(x[i]) for i in range(n1)]\n",
        "n_bins = 50\n",
        "n, bin, patches = plt.hist(x_sum, n_bins)\n",
        "plt.xlabel('x')\n",
        "plt.ylabel('Probability')"
      ],
      "metadata": {
        "colab": {
          "base_uri": "https://localhost:8080/",
          "height": 297
        },
        "id": "dmpSvQYLpx8T",
        "outputId": "7fe937eb-c1ae-45f2-8b9c-b48bc24fe999"
      },
      "execution_count": 23,
      "outputs": [
        {
          "output_type": "execute_result",
          "data": {
            "text/plain": [
              "Text(0, 0.5, 'Probability')"
            ]
          },
          "metadata": {},
          "execution_count": 23
        },
        {
          "output_type": "display_data",
          "data": {
            "text/plain": [
              "<Figure size 432x288 with 1 Axes>"
            ],
            "image/png": "[encoded data removed]"
          },
          "metadata": {
            "needs_background": "light"
          }
        }
      ]
    },
    {
      "cell_type": "markdown",
      "source": [
        "Вывод: распределение сумм по случайным выборкам стремится к нормальному"
      ],
      "metadata": {
        "id": "0bEbku4p51bH"
      }
    },
    {
      "cell_type": "markdown",
      "source": [
        "3. Дополните код Монте-Карло последовательности независимых испытаний расчетом соответствующих вероятностей (через биномиальное распределение) \n",
        "и сравните результаты.\n",
        "Повторите расчеты биномиальных коэффициентов и вероятностей k успехов в последовательности из n независимых испытаний, взяв другие значения n и k. "
      ],
      "metadata": {
        "id": "sfT1UxRJ7evq"
      }
    },
    {
      "cell_type": "code",
      "source": [
        "import numpy as np\n",
        "import matplotlib.pyplot as plt\n",
        "\n",
        "k = 3 # сколько успехов (сколько раз должна выпасть 1 из n бросков)  \n",
        "n = 10 # количество выборок (попыток)\n",
        "\n",
        "n1 = 100000 # количество элементов в выборке (экпериментов, т.е. сколько раз по n бросков сделано)\n",
        "\n",
        "# метод Монте-Карло\n",
        "x = [np.random.randint(0,2,n1) for _ in range(n)]\n",
        "x_sum = sum(x)\n",
        "num = 0\n",
        "for i in range(n1):\n",
        "  if x_sum[i] == k:\n",
        "    num +=1\n",
        "\n",
        "# по формуле Бернулли\n",
        "c_k_n = np.math.factorial(n)/np.math.factorial(k)/np.math.factorial(n-k) # коэффициент с из k по n\n",
        "p_0 = 0.5\n",
        "p = c_k_n*p_0**k*(1-p_0)**(n-k)\n",
        "\n",
        "print('Метод Монте-Карло: ', num/n1)\n",
        "print('По формуле Бернулли: ', p, ' Коэффициент c_k_n=', c_k_n)\n",
        "\n",
        "\n",
        "\n"
      ],
      "metadata": {
        "colab": {
          "base_uri": "https://localhost:8080/"
        },
        "id": "1UqhlQag7dpj",
        "outputId": "4e51b962-4917-4eed-a909-288c1c501ee6"
      },
      "execution_count": 46,
      "outputs": [
        {
          "output_type": "stream",
          "name": "stdout",
          "text": [
            "Метод Монте-Карло:  0.11789\n",
            "По формуле Бернулли:  0.1171875  Коэффициент c_k_n= 120.0\n"
          ]
        }
      ]
    },
    {
      "cell_type": "markdown",
      "source": [
        "Вывод. Необходимо около 100 000 экспериментов в методе Монте-Карло для достижения точности до третьего знака по сравнению к рассчетным значением"
      ],
      "metadata": {
        "id": "5FgZhfWoE9b_"
      }
    },
    {
      "cell_type": "markdown",
      "source": [
        "**4. Из урока по комбинаторике повторите расчеты, сгенерировав возможные варианты перестановок для других значений n и k**"
      ],
      "metadata": {
        "id": "VGvkhKosJrSA"
      }
    },
    {
      "cell_type": "code",
      "source": [
        "import numpy as np\n",
        "import itertools\n",
        "\n",
        "k=0\n",
        "for p in itertools.product('01', repeat=4):\n",
        "  print(''.join(p))\n",
        "  k += 1\n",
        "print('Кол-во: ', k)"
      ],
      "metadata": {
        "colab": {
          "base_uri": "https://localhost:8080/"
        },
        "id": "Y6q7Vd1zGb6h",
        "outputId": "b84efa44-84fe-4168-f1af-26645a374f53"
      },
      "execution_count": 61,
      "outputs": [
        {
          "output_type": "stream",
          "name": "stdout",
          "text": [
            "0000\n",
            "0001\n",
            "0010\n",
            "0011\n",
            "0100\n",
            "0101\n",
            "0110\n",
            "0111\n",
            "1000\n",
            "1001\n",
            "1010\n",
            "1011\n",
            "1100\n",
            "1101\n",
            "1110\n",
            "1111\n",
            "Кол-во:  16\n"
          ]
        }
      ]
    },
    {
      "cell_type": "code",
      "source": [
        "k=0\n",
        "for p in itertools.permutations('0123', 4):\n",
        "  print(''.join(p))\n",
        "  k+=1\n",
        "print('Кол-во: ', k)"
      ],
      "metadata": {
        "colab": {
          "base_uri": "https://localhost:8080/"
        },
        "id": "GceDUNpzIA83",
        "outputId": "e3eb1bb9-e6b3-4235-dda0-0c965eb67dd5"
      },
      "execution_count": 69,
      "outputs": [
        {
          "output_type": "stream",
          "name": "stdout",
          "text": [
            "0123\n",
            "0132\n",
            "0213\n",
            "0231\n",
            "0312\n",
            "0321\n",
            "1023\n",
            "1032\n",
            "1203\n",
            "1230\n",
            "1302\n",
            "1320\n",
            "2013\n",
            "2031\n",
            "2103\n",
            "2130\n",
            "2301\n",
            "2310\n",
            "3012\n",
            "3021\n",
            "3102\n",
            "3120\n",
            "3201\n",
            "3210\n",
            "Кол-во:  24\n"
          ]
        }
      ]
    },
    {
      "cell_type": "code",
      "source": [
        "k=0\n",
        "for p in itertools.combinations('0123', 2):\n",
        "  print(''.join(p))\n",
        "  k+=1\n",
        "print('Кол-во: ', k)"
      ],
      "metadata": {
        "colab": {
          "base_uri": "https://localhost:8080/"
        },
        "id": "XeU7O6EdI9AQ",
        "outputId": "e50c7012-a0be-462b-df66-07fc603a74d9"
      },
      "execution_count": 72,
      "outputs": [
        {
          "output_type": "stream",
          "name": "stdout",
          "text": [
            "01\n",
            "02\n",
            "03\n",
            "12\n",
            "13\n",
            "23\n",
            "Кол-во:  6\n"
          ]
        }
      ]
    },
    {
      "cell_type": "markdown",
      "source": [
        "**5. Дополните код расчетом коэффициента корреляции x и y по формуле** "
      ],
      "metadata": {
        "id": "rQH5GfjQKULQ"
      }
    },
    {
      "cell_type": "code",
      "source": [
        "n = 100\n",
        "r = 0.7\n",
        "x = np.random.rand(n)\n",
        "y = r*x + (1-r)*np.random.rand(n)\n",
        "plt.plot(x,y,'o')\n",
        "plt.xlabel('x')\n",
        "plt.ylabel('y')\n",
        "plt.grid()\n",
        "\n",
        "A = np.vstack([x, np.ones(len(x))]).T\n",
        "a,b = np.linalg.lstsq(A, y)[0]\n",
        "plt.plot([0,1],[b, a+b])\n",
        "corr_coef = np.sum((x-np.mean(x))*(y-np.mean(y)))/np.sqrt(np.sum((x-np.mean(x))**2)*np.sum((y-np.mean(y))**2))\n",
        "print(corr_coef)\n",
        "print(np.corrcoef(x,y))\n",
        "print(a,b)"
      ],
      "metadata": {
        "colab": {
          "base_uri": "https://localhost:8080/",
          "height": 428
        },
        "id": "MVkLoMAVKTUI",
        "outputId": "84bee75c-8adc-47f1-9c8b-8413c4f76bf1"
      },
      "execution_count": 93,
      "outputs": [
        {
          "output_type": "stream",
          "name": "stdout",
          "text": [
            "0.9170941296370528\n",
            "[[1.         0.91709413]\n",
            " [0.91709413 1.        ]]\n",
            "0.6852222211073202 0.14991638247748593\n"
          ]
        },
        {
          "output_type": "stream",
          "name": "stderr",
          "text": [
            "/usr/local/lib/python3.7/dist-packages/ipykernel_launcher.py:11: FutureWarning: `rcond` parameter will change to the default of machine precision times ``max(M, N)`` where M and N are the input matrix dimensions.\n",
            "To use the future default and silence this warning we advise to pass `rcond=None`, to keep using the old, explicitly pass `rcond=-1`.\n",
            "  # This is added back by InteractiveShellApp.init_path()\n"
          ]
        },
        {
          "output_type": "display_data",
          "data": {
            "text/plain": [
              "<Figure size 432x288 with 1 Axes>"
            ],
            "image/png": "[encoded data removed]"
          },
          "metadata": {
            "needs_background": "light"
          }
        }
      ]
    }
  ]
}